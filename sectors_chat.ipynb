{
 "cells": [
  {
   "cell_type": "code",
   "execution_count": 19,
   "metadata": {},
   "outputs": [],
   "source": [
    "import os\n",
    "import requests\n",
    "from dotenv import load_dotenv\n",
    "from langchain_core.tools import tool\n",
    "from langchain_groq import ChatGroq\n",
    "from langchain_core.prompts import ChatPromptTemplate, MessagesPlaceholder\n",
    "from datetime import datetime\n",
    "from langchain.agents import create_tool_calling_agent, AgentExecutor\n",
    "\n",
    "import pprint as pp\n",
    "\n",
    "from langchain.pydantic_v1 import BaseModel, Field\n",
    "from langchain.tools import BaseTool, StructuredTool, tool"
   ]
  },
  {
   "cell_type": "code",
   "execution_count": 20,
   "metadata": {},
   "outputs": [],
   "source": [
    "SECTORS_API_KEY = os.getenv(\"SECTORS_API_KEY\")\n",
    "GROQ_API_KEY = os.getenv(\"GROQ_API_KEY\")"
   ]
  },
  {
   "cell_type": "code",
   "execution_count": 21,
   "metadata": {},
   "outputs": [],
   "source": [
    "def get_info(url):\n",
    "    url = url\n",
    "    print(url)\n",
    "    headers = {\n",
    "        \"Authorization\": f\"{SECTORS_API_KEY}\",\n",
    "    }\n",
    "    try:\n",
    "        response = requests.get(url, headers=headers)\n",
    "        response.raise_for_status()\n",
    "        return response.json()\n",
    "    except requests.exceptions.HTTPError as e:\n",
    "        return {\"error\": \"Failed to get data\", \"reason\": e}\n"
   ]
  },
  {
   "cell_type": "code",
   "execution_count": 22,
   "metadata": {},
   "outputs": [],
   "source": [
    "@tool\n",
    "def get_current_date_ai():\n",
    "    \"\"\"\n",
    "    Get current date\n",
    "    \"\"\"\n",
    "    return datetime.now().strftime(\"%Y-%m-%d\")"
   ]
  },
  {
   "cell_type": "code",
   "execution_count": 23,
   "metadata": {},
   "outputs": [],
   "source": [
    "@tool\n",
    "def get_company_information_ai(symbol: str, section: str):\n",
    "    \"\"\"\n",
    "    :param symbol: company symbol with length of 4 uppercase character. format: XXXX\n",
    "    :param section: Get company information of any section from:\n",
    "        - Overview: General knowledge about the company, provides information about the company. [industry, subsector, market cap, sector, symbol, addressm employee num, website, phone]\n",
    "        - Valuation: The extent of the companys wealth/assets, measured with specific criteria. [pe, pb, ps, peg ratio]\n",
    "        - Peers: Companies that have a similar market share, including their respective market capitalizations. [group name, peers companies]\n",
    "        - Future: Analysis of the company's current financial state and potential future prospects. [forecast, growth]\n",
    "        - Financials: The company's revenue and earnings. [tax, revenue, earnings, debt, asset, profits, equity, liabilities]\n",
    "        - Dividend: Stock payout ratings. [total yield, total divident]\n",
    "        - Management: The managers/chiefs present at BRI. [executive, shareholder]\n",
    "        - Ownership: Distribution of the companys ownership. [major shareholder, ownership percentage, monthly net transaction]\n",
    "    \"\"\"\n",
    "    url = f\"https://api.sectors.app/v1/company/report/{symbol.lower()}/?sections={section.lower()}\"\n",
    "    return get_info(url)\n"
   ]
  },
  {
   "cell_type": "code",
   "execution_count": 24,
   "metadata": {},
   "outputs": [],
   "source": [
    "@tool\n",
    "def top_company_by_transaction_volume_ai(\n",
    "    start_date: str,\n",
    "    end_date: str,\n",
    "    sub_sector: str = \"\",\n",
    "    n: int = 5,\n",
    "):\n",
    "    \"\"\"\n",
    "    Get top n of most traded company by transaction volume in certain period of time.\n",
    "    \n",
    "    use get_current_date_ai to get current date\n",
    "    :param start_date: Start date of the period of time. format: yyyy-mm-dd.\n",
    "    :param end_date: End date of the period of time. format: yyyy-mm-dd. date must be greater than start date.\n",
    "    use get_current_date_ai result to get calculate start_date and end_date\n",
    "    \n",
    "    :param sub_sector: Sub sector of the company. all availabe sub sector can be get by calling get_available_subsectors_ai\n",
    "    :param n: Number of top company. default is 5\n",
    "    :return: List of top n company by transaction volume\n",
    "    \"\"\"\n",
    "    start_date = datetime.strptime(start_date, \"%Y-%m-%d\").strftime(\"%Y-%m-%d\")\n",
    "    end_date = datetime.strptime(end_date, \"%Y-%m-%d\").strftime(\"%Y-%m-%d\")\n",
    "    print(start_date, end_date)\n",
    "    if sub_sector == \"\":\n",
    "        url = f\"https://api.sectors.app/v1/most-traded/?start={start_date}&end={end_date}&n_stock={n}\"\n",
    "    else:\n",
    "        url = f\"https://api.sectors.app/v1/most-traded/?start={start_date}&end={end_date}&n_stock={n}&sub_sector={'-'.join(sub_sector.lower().split())}\"\n",
    "    print(url)\n",
    "    return get_info(url)"
   ]
  },
  {
   "cell_type": "code",
   "execution_count": 25,
   "metadata": {},
   "outputs": [],
   "source": [
    "@tool\n",
    "def get_daily_transaction_ai(symbol: str, start_date: str, end_date: str):\n",
    "    \"\"\"\n",
    "    Return daily transaction data of a given symbol on a certain interval\n",
    "    contains closing prices, volume, and market cap\n",
    "    \n",
    "    :param symbol: company symbol, the first 4, symbol of company\n",
    "    :param start_date: start date of the interval\n",
    "    :param end_date: end date of the interval\n",
    "    use get_current_date_ai result to get calculate start_date and end_date\n",
    "    \n",
    "    use tool get_info_ai for more information about the company.\n",
    "    \"\"\"\n",
    "    url = (\n",
    "        f\"https://api.sectors.app/v1/daily/{symbol}/?start={start_date}&end={end_date}\"\n",
    "    )\n",
    "    return get_info(url)"
   ]
  },
  {
   "cell_type": "code",
   "execution_count": 26,
   "metadata": {},
   "outputs": [],
   "source": [
    "@tool\n",
    "def get_performance_of_company_since_ipo_listing_ai(symbol: str):\n",
    "    \"\"\"\n",
    "    Get the performance of the company since its IPO listing.\n",
    "    :param symbol: company symbol, the first 4, symbol of company\n",
    "    \n",
    "    use tool get_info_ai for more information about the company.\n",
    "    \"\"\"\n",
    "    url = f\"https://api.sectors.app/v1/listing-performance/{symbol}/\"\n",
    "    return get_info(url)"
   ]
  },
  {
   "cell_type": "code",
   "execution_count": 27,
   "metadata": {},
   "outputs": [],
   "source": [
    "@tool\n",
    "def get_revenue_and_cost_segment(symbol: str):\n",
    "    \"\"\"\n",
    "    Get revenue and cost segment of a company [revenue breakdown, value, source, target]\n",
    "    :param symbol: company symbol, the first 4, symbol of company\n",
    "    \n",
    "    use tool get_info_ai for more information about the company.\n",
    "    \"\"\"\n",
    "    url = f\"https://api.sectors.app/v1/company/financials/{symbol}/\"\n",
    "    return get_info(url)"
   ]
  },
  {
   "cell_type": "code",
   "execution_count": 28,
   "metadata": {},
   "outputs": [],
   "source": [
    "tools = [top_company_by_transaction_volume_ai, get_company_information_ai, get_current_date_ai, get_daily_transaction_ai, get_performance_of_company_since_ipo_listing_ai, get_revenue_and_cost_segment]"
   ]
  },
  {
   "cell_type": "code",
   "execution_count": 29,
   "metadata": {},
   "outputs": [
    {
     "data": {
      "text/plain": [
       "ChatGroq(client=<groq.resources.chat.completions.Completions object at 0x123b35ad0>, async_client=<groq.resources.chat.completions.AsyncCompletions object at 0x123b627d0>, model_name='llama3-groq-8b-8192-tool-use-preview', temperature=0.05, groq_api_key=SecretStr('**********'))"
      ]
     },
     "execution_count": 29,
     "metadata": {},
     "output_type": "execute_result"
    }
   ],
   "source": [
    "\n",
    "llm = ChatGroq(\n",
    "    temperature=0.05,\n",
    "    model_name=\"llama3-groq-8b-8192-tool-use-preview\",\n",
    "    groq_api_key=GROQ_API_KEY,\n",
    ")\n",
    "llm.bind_tools(tools)\n",
    "llm"
   ]
  },
  {
   "cell_type": "code",
   "execution_count": 30,
   "metadata": {},
   "outputs": [],
   "source": [
    "prompt = ChatPromptTemplate.from_messages(\n",
    "    [\n",
    "        (\n",
    "            \"system\",\n",
    "            f\"\"\"\n",
    "            Respond logically and according to the tools provided. Answer it as humanly as possible.\n",
    "            FOR ALL QUESTION, RUN get_current_date_ai tool FIRST and figure it out about yesterday, tomorrow, or n of days ago with format yyyy-mm-dd\n",
    "            if ask about company, use get_company_information_ai tool to get the information about the company.\n",
    "            \n",
    "            If two different tools were used, use the first tool to get the information and the second tool to get the specific information, and so on.\n",
    "            procedure on how to use multiple tool:\n",
    "            question: Give me the no 1 most biggest volume transaction in ist august 2019, and give me the overall information about the company\n",
    "                - use top_company_by_transaction_volume_ai to get the company and its 4 letter symbol\n",
    "                - use 4 letter symbol in get_company_information_ai to get the overview\n",
    "                - return the result\n",
    "            \"\"\",\n",
    "        ),\n",
    "        # (\"ai\", \"{chat_history}\"),\n",
    "        (\"human\", \"{input}\"),\n",
    "        # msg containing previous agent tool invocations\n",
    "        # and corresponding tool outputs\n",
    "        MessagesPlaceholder(\"agent_scratchpad\"),\n",
    "    ]\n",
    ")"
   ]
  },
  {
   "cell_type": "code",
   "execution_count": 31,
   "metadata": {},
   "outputs": [
    {
     "data": {
      "text/plain": [
       "ConversationBufferMemory(memory_key='chat_history')"
      ]
     },
     "execution_count": 31,
     "metadata": {},
     "output_type": "execute_result"
    }
   ],
   "source": [
    "from langchain.memory import ConversationBufferMemory\n",
    "\n",
    "memory = ConversationBufferMemory(memory_key=\"chat_history\")\n",
    "memory"
   ]
  },
  {
   "cell_type": "code",
   "execution_count": 32,
   "metadata": {},
   "outputs": [
    {
     "data": {
      "text/plain": [
       "RunnableAssign(mapper={\n",
       "  agent_scratchpad: RunnableLambda(lambda x: message_formatter(x['intermediate_steps']))\n",
       "})\n",
       "| ChatPromptTemplate(input_variables=['agent_scratchpad', 'input'], input_types={'agent_scratchpad': typing.List[typing.Union[langchain_core.messages.ai.AIMessage, langchain_core.messages.human.HumanMessage, langchain_core.messages.chat.ChatMessage, langchain_core.messages.system.SystemMessage, langchain_core.messages.function.FunctionMessage, langchain_core.messages.tool.ToolMessage]]}, messages=[SystemMessagePromptTemplate(prompt=PromptTemplate(input_variables=[], template='\\n            Respond logically and according to the tools provided. Answer it as humanly as possible.\\n            FOR ALL QUESTION, RUN get_current_date_ai tool FIRST and figure it out about yesterday, tomorrow, or n of days ago with format yyyy-mm-dd\\n            if ask about company, use get_company_information_ai tool to get the information about the company.\\n            \\n            If two different tools were used, use the first tool to get the information and the second tool to get the specific information, and so on.\\n            procedure on how to use multiple tool:\\n            question: Give me the no 1 most biggest volume transaction in ist august 2019, and give me the overall information about the company\\n                - use top_company_by_transaction_volume_ai to get the company and its 4 letter symbol\\n                - use 4 letter symbol in get_company_information_ai to get the overview\\n                - return the result\\n            ')), HumanMessagePromptTemplate(prompt=PromptTemplate(input_variables=['input'], template='{input}')), MessagesPlaceholder(variable_name='agent_scratchpad')])\n",
       "| RunnableBinding(bound=ChatGroq(client=<groq.resources.chat.completions.Completions object at 0x123b35ad0>, async_client=<groq.resources.chat.completions.AsyncCompletions object at 0x123b627d0>, model_name='llama3-groq-8b-8192-tool-use-preview', temperature=0.05, groq_api_key=SecretStr('**********')), kwargs={'tools': [{'type': 'function', 'function': {'name': 'top_company_by_transaction_volume_ai', 'description': 'Get top n of most traded company by transaction volume in certain period of time.\\n\\nuse get_current_date_ai to get current date\\n:param start_date: Start date of the period of time. format: yyyy-mm-dd.\\n:param end_date: End date of the period of time. format: yyyy-mm-dd. date must be greater than start date.\\nuse get_current_date_ai to get calculate start_date and end_date\\n\\n:param sub_sector: Sub sector of the company. all availabe sub sector can be get by calling get_available_subsectors_ai\\n:param n: Number of top company. default is 5\\n:return: List of top n company by transaction volume', 'parameters': {'type': 'object', 'properties': {'start_date': {'type': 'string'}, 'end_date': {'type': 'string'}, 'sub_sector': {'default': '', 'type': 'string'}, 'n': {'default': 5, 'type': 'integer'}}, 'required': ['start_date', 'end_date']}}}, {'type': 'function', 'function': {'name': 'get_company_information_ai', 'description': \":param symbol: company symbol with length of 4 uppercase character. format: XXXX\\n:param section: Get company information of any section from:\\n    - Overview: General knowledge about the company, provides information about the company. [industry, subsector, market cap, sector, symbol, addressm employee num, website, phone]\\n    - Valuation: The extent of the companys wealth/assets, measured with specific criteria. [pe, pb, ps, peg ratio]\\n    - Peers: Companies that have a similar market share, including their respective market capitalizations. [group name, peers companies]\\n    - Future: Analysis of the company's current financial state and potential future prospects. [forecast, growth]\\n    - Financials: The company's revenue and earnings. [tax, revenue, earnings, debt, asset, profits, equity, liabilities]\\n    - Dividend: Stock payout ratings. [total yield, total divident]\\n    - Management: The managers/chiefs present at BRI. [executive, shareholder]\\n    - Ownership: Distribution of the companys ownership. [major shareholder, ownership percentage, monthly net transaction]\", 'parameters': {'type': 'object', 'properties': {'symbol': {'type': 'string'}, 'section': {'type': 'string'}}, 'required': ['symbol', 'section']}}}, {'type': 'function', 'function': {'name': 'get_current_date_ai', 'description': 'Get current date', 'parameters': {'type': 'object', 'properties': {}}}}, {'type': 'function', 'function': {'name': 'get_daily_transaction_ai', 'description': 'Return daily transaction data of a given symbol on a certain interval\\ncontains closing prices, volume, and market cap\\n\\n:param symbol: company symbol, the first 4, symbol of company\\n:param start_date: start date of the interval\\n:param end_date: end date of the interval\\nuse get_current_date_ai to get calculate start_date and end_date\\n\\nuse tool get_info_ai for more information about the company.', 'parameters': {'type': 'object', 'properties': {'symbol': {'type': 'string'}, 'start_date': {'type': 'string'}, 'end_date': {'type': 'string'}}, 'required': ['symbol', 'start_date', 'end_date']}}}, {'type': 'function', 'function': {'name': 'get_performance_of_company_since_ipo_listing_ai', 'description': 'Get the performance of the company since its IPO listing.\\n:param symbol: company symbol, the first 4, symbol of company\\n\\nuse tool get_info_ai for more information about the company.', 'parameters': {'type': 'object', 'properties': {'symbol': {'type': 'string'}}, 'required': ['symbol']}}}, {'type': 'function', 'function': {'name': 'get_revenue_and_cost_segment', 'description': 'Get revenue and cost segment of a company [revenue breakdown, value, source, target]\\n:param symbol: company symbol, the first 4, symbol of company\\n\\nuse tool get_info_ai for more information about the company.', 'parameters': {'type': 'object', 'properties': {'symbol': {'type': 'string'}}, 'required': ['symbol']}}}]})\n",
       "| ToolsAgentOutputParser()"
      ]
     },
     "execution_count": 32,
     "metadata": {},
     "output_type": "execute_result"
    }
   ],
   "source": [
    "agent = create_tool_calling_agent(llm, tools, prompt) \n",
    "agent"
   ]
  },
  {
   "cell_type": "code",
   "execution_count": 33,
   "metadata": {},
   "outputs": [
    {
     "data": {
      "text/plain": [
       "AgentExecutor(memory=ConversationBufferMemory(memory_key='chat_history'), verbose=True, agent=RunnableMultiActionAgent(runnable=RunnableAssign(mapper={\n",
       "  agent_scratchpad: RunnableLambda(lambda x: message_formatter(x['intermediate_steps']))\n",
       "})\n",
       "| ChatPromptTemplate(input_variables=['agent_scratchpad', 'input'], input_types={'agent_scratchpad': typing.List[typing.Union[langchain_core.messages.ai.AIMessage, langchain_core.messages.human.HumanMessage, langchain_core.messages.chat.ChatMessage, langchain_core.messages.system.SystemMessage, langchain_core.messages.function.FunctionMessage, langchain_core.messages.tool.ToolMessage]]}, messages=[SystemMessagePromptTemplate(prompt=PromptTemplate(input_variables=[], template='\\n            Respond logically and according to the tools provided. Answer it as humanly as possible.\\n            FOR ALL QUESTION, RUN get_current_date_ai tool FIRST and figure it out about yesterday, tomorrow, or n of days ago with format yyyy-mm-dd\\n            if ask about company, use get_company_information_ai tool to get the information about the company.\\n            \\n            If two different tools were used, use the first tool to get the information and the second tool to get the specific information, and so on.\\n            procedure on how to use multiple tool:\\n            question: Give me the no 1 most biggest volume transaction in ist august 2019, and give me the overall information about the company\\n                - use top_company_by_transaction_volume_ai to get the company and its 4 letter symbol\\n                - use 4 letter symbol in get_company_information_ai to get the overview\\n                - return the result\\n            ')), HumanMessagePromptTemplate(prompt=PromptTemplate(input_variables=['input'], template='{input}')), MessagesPlaceholder(variable_name='agent_scratchpad')])\n",
       "| RunnableBinding(bound=ChatGroq(client=<groq.resources.chat.completions.Completions object at 0x123b35ad0>, async_client=<groq.resources.chat.completions.AsyncCompletions object at 0x123b627d0>, model_name='llama3-groq-8b-8192-tool-use-preview', temperature=0.05, groq_api_key=SecretStr('**********')), kwargs={'tools': [{'type': 'function', 'function': {'name': 'top_company_by_transaction_volume_ai', 'description': 'Get top n of most traded company by transaction volume in certain period of time.\\n\\nuse get_current_date_ai to get current date\\n:param start_date: Start date of the period of time. format: yyyy-mm-dd.\\n:param end_date: End date of the period of time. format: yyyy-mm-dd. date must be greater than start date.\\nuse get_current_date_ai to get calculate start_date and end_date\\n\\n:param sub_sector: Sub sector of the company. all availabe sub sector can be get by calling get_available_subsectors_ai\\n:param n: Number of top company. default is 5\\n:return: List of top n company by transaction volume', 'parameters': {'type': 'object', 'properties': {'start_date': {'type': 'string'}, 'end_date': {'type': 'string'}, 'sub_sector': {'default': '', 'type': 'string'}, 'n': {'default': 5, 'type': 'integer'}}, 'required': ['start_date', 'end_date']}}}, {'type': 'function', 'function': {'name': 'get_company_information_ai', 'description': \":param symbol: company symbol with length of 4 uppercase character. format: XXXX\\n:param section: Get company information of any section from:\\n    - Overview: General knowledge about the company, provides information about the company. [industry, subsector, market cap, sector, symbol, addressm employee num, website, phone]\\n    - Valuation: The extent of the companys wealth/assets, measured with specific criteria. [pe, pb, ps, peg ratio]\\n    - Peers: Companies that have a similar market share, including their respective market capitalizations. [group name, peers companies]\\n    - Future: Analysis of the company's current financial state and potential future prospects. [forecast, growth]\\n    - Financials: The company's revenue and earnings. [tax, revenue, earnings, debt, asset, profits, equity, liabilities]\\n    - Dividend: Stock payout ratings. [total yield, total divident]\\n    - Management: The managers/chiefs present at BRI. [executive, shareholder]\\n    - Ownership: Distribution of the companys ownership. [major shareholder, ownership percentage, monthly net transaction]\", 'parameters': {'type': 'object', 'properties': {'symbol': {'type': 'string'}, 'section': {'type': 'string'}}, 'required': ['symbol', 'section']}}}, {'type': 'function', 'function': {'name': 'get_current_date_ai', 'description': 'Get current date', 'parameters': {'type': 'object', 'properties': {}}}}, {'type': 'function', 'function': {'name': 'get_daily_transaction_ai', 'description': 'Return daily transaction data of a given symbol on a certain interval\\ncontains closing prices, volume, and market cap\\n\\n:param symbol: company symbol, the first 4, symbol of company\\n:param start_date: start date of the interval\\n:param end_date: end date of the interval\\nuse get_current_date_ai to get calculate start_date and end_date\\n\\nuse tool get_info_ai for more information about the company.', 'parameters': {'type': 'object', 'properties': {'symbol': {'type': 'string'}, 'start_date': {'type': 'string'}, 'end_date': {'type': 'string'}}, 'required': ['symbol', 'start_date', 'end_date']}}}, {'type': 'function', 'function': {'name': 'get_performance_of_company_since_ipo_listing_ai', 'description': 'Get the performance of the company since its IPO listing.\\n:param symbol: company symbol, the first 4, symbol of company\\n\\nuse tool get_info_ai for more information about the company.', 'parameters': {'type': 'object', 'properties': {'symbol': {'type': 'string'}}, 'required': ['symbol']}}}, {'type': 'function', 'function': {'name': 'get_revenue_and_cost_segment', 'description': 'Get revenue and cost segment of a company [revenue breakdown, value, source, target]\\n:param symbol: company symbol, the first 4, symbol of company\\n\\nuse tool get_info_ai for more information about the company.', 'parameters': {'type': 'object', 'properties': {'symbol': {'type': 'string'}}, 'required': ['symbol']}}}]})\n",
       "| ToolsAgentOutputParser(), input_keys_arg=[], return_keys_arg=[], stream_runnable=True), tools=[StructuredTool(name='top_company_by_transaction_volume_ai', description='Get top n of most traded company by transaction volume in certain period of time.\\n\\nuse get_current_date_ai to get current date\\n:param start_date: Start date of the period of time. format: yyyy-mm-dd.\\n:param end_date: End date of the period of time. format: yyyy-mm-dd. date must be greater than start date.\\nuse get_current_date_ai to get calculate start_date and end_date\\n\\n:param sub_sector: Sub sector of the company. all availabe sub sector can be get by calling get_available_subsectors_ai\\n:param n: Number of top company. default is 5\\n:return: List of top n company by transaction volume', args_schema=<class 'pydantic.v1.main.top_company_by_transaction_volume_aiSchema'>, func=<function top_company_by_transaction_volume_ai at 0x12363f600>), StructuredTool(name='get_company_information_ai', description=\":param symbol: company symbol with length of 4 uppercase character. format: XXXX\\n:param section: Get company information of any section from:\\n    - Overview: General knowledge about the company, provides information about the company. [industry, subsector, market cap, sector, symbol, addressm employee num, website, phone]\\n    - Valuation: The extent of the companys wealth/assets, measured with specific criteria. [pe, pb, ps, peg ratio]\\n    - Peers: Companies that have a similar market share, including their respective market capitalizations. [group name, peers companies]\\n    - Future: Analysis of the company's current financial state and potential future prospects. [forecast, growth]\\n    - Financials: The company's revenue and earnings. [tax, revenue, earnings, debt, asset, profits, equity, liabilities]\\n    - Dividend: Stock payout ratings. [total yield, total divident]\\n    - Management: The managers/chiefs present at BRI. [executive, shareholder]\\n    - Ownership: Distribution of the companys ownership. [major shareholder, ownership percentage, monthly net transaction]\", args_schema=<class 'pydantic.v1.main.get_company_information_aiSchema'>, func=<function get_company_information_ai at 0x117e6c5e0>), StructuredTool(name='get_current_date_ai', description='Get current date', args_schema=<class 'pydantic.v1.main.get_current_date_aiSchema'>, func=<function get_current_date_ai at 0x117e6c040>), StructuredTool(name='get_daily_transaction_ai', description='Return daily transaction data of a given symbol on a certain interval\\ncontains closing prices, volume, and market cap\\n\\n:param symbol: company symbol, the first 4, symbol of company\\n:param start_date: start date of the interval\\n:param end_date: end date of the interval\\nuse get_current_date_ai to get calculate start_date and end_date\\n\\nuse tool get_info_ai for more information about the company.', args_schema=<class 'pydantic.v1.main.get_daily_transaction_aiSchema'>, func=<function get_daily_transaction_ai at 0x117e6c180>), StructuredTool(name='get_performance_of_company_since_ipo_listing_ai', description='Get the performance of the company since its IPO listing.\\n:param symbol: company symbol, the first 4, symbol of company\\n\\nuse tool get_info_ai for more information about the company.', args_schema=<class 'pydantic.v1.main.get_performance_of_company_since_ipo_listing_aiSchema'>, func=<function get_performance_of_company_since_ipo_listing_ai at 0x12373ade0>), StructuredTool(name='get_revenue_and_cost_segment', description='Get revenue and cost segment of a company [revenue breakdown, value, source, target]\\n:param symbol: company symbol, the first 4, symbol of company\\n\\nuse tool get_info_ai for more information about the company.', args_schema=<class 'pydantic.v1.main.get_revenue_and_cost_segmentSchema'>, func=<function get_revenue_and_cost_segment at 0x117e6c720>)])"
      ]
     },
     "execution_count": 33,
     "metadata": {},
     "output_type": "execute_result"
    }
   ],
   "source": [
    "agent_executor = AgentExecutor(agent=agent, tools=tools, verbose=True, memory=memory)\n",
    "agent_executor"
   ]
  },
  {
   "cell_type": "code",
   "execution_count": 34,
   "metadata": {},
   "outputs": [],
   "source": [
    "query_0 = \"Give me the top 1 company by transaction volume in 2 august 2023. give me the email of said company\"\n",
    "query_1 = \"What are the top 5 company by transaction volume on the first of this month?\"\n",
    "query_2 = \"What are the most traded stock yesterday?\"\n",
    "query_3 = (\n",
    "    \"What are the top 7 most traded stocks between 6th June to 10th June this year?\"\n",
    ")\n",
    "query_4 = \"What are the top 3 companies by transaction volume over the last 7 days?\"  # gak konsisten atara pakai angka dan tidak\n",
    "query_5 = \"Based on the closing prices of BBCA between 1st and 30th of June 2024, are we seeing an uptrend or downtrend? Try to explain why.\"\n",
    "query_6 = \"What is the company with the largest market cap between BBCA and BREN? For said company, retrieve the email, phone number, listing date and website for further research.\"\n",
    "query_7 = \"What is the performance of GOTO (symbol: GOTO) since its IPO listing?\"\n",
    "query_8 = \"If i had invested into GOTO vs BREN on their respective IPO listing date, which one would have given me a better return over a 90 day horizon?\""
   ]
  },
  {
   "cell_type": "code",
   "execution_count": 35,
   "metadata": {},
   "outputs": [],
   "source": [
    "queries = [query_4]"
   ]
  },
  {
   "cell_type": "code",
   "execution_count": 36,
   "metadata": {},
   "outputs": [
    {
     "name": "stdout",
     "output_type": "stream",
     "text": [
      "Question: What are the top 3 companies by transaction volume over the last 7 days?\n",
      "\n",
      "\n",
      "\u001b[1m> Entering new AgentExecutor chain...\u001b[0m\n",
      "\u001b[32;1m\u001b[1;3m\n",
      "Invoking: `get_current_date_ai` with `{}`\n",
      "\n",
      "\n",
      "\u001b[0m\u001b[38;5;200m\u001b[1;3m2024-08-29\u001b[0m\u001b[32;1m\u001b[1;3m\n",
      "Invoking: `top_company_by_transaction_volume_ai` with `{'start_date': '2023-09-01', 'end_date': '2023-09-07', 'n': 3}`\n",
      "\n",
      "\n",
      "\u001b[0m2023-09-01 2023-09-07\n",
      "https://api.sectors.app/v1/most-traded/?start=2023-09-01&end=2023-09-07&n_stock=3\n",
      "https://api.sectors.app/v1/most-traded/?start=2023-09-01&end=2023-09-07&n_stock=3\n",
      "\u001b[36;1m\u001b[1;3m{'2023-09-01': [{'symbol': 'GOTO.JK', 'company_name': 'PT GoTo Gojek Tokopedia Tbk', 'volume': 1217262200, 'price': 95}, {'symbol': 'MEDC.JK', 'company_name': 'PT Medco Energi Internasional Tbk', 'volume': 586829900, 'price': 1290}, {'symbol': 'MUTU.JK', 'company_name': 'PT Mutuagung Lestari Tbk', 'volume': 547390500, 'price': 189}], '2023-09-04': [{'symbol': 'BUMI.JK', 'company_name': 'Bumi Resources Tbk', 'volume': 1139423700, 'price': 145}, {'symbol': 'DEWA.JK', 'company_name': 'Darma Henwa Tbk', 'volume': 805692000, 'price': 70}, {'symbol': 'GOTO.JK', 'company_name': 'PT GoTo Gojek Tokopedia Tbk', 'volume': 781467500, 'price': 93}], '2023-09-05': [{'symbol': 'FREN.JK', 'company_name': 'PT Smartfren Telecom Tbk', 'volume': 2525472900, 'price': 59}, {'symbol': 'COAL.JK', 'company_name': 'PT Black Diamond Resources Tbk', 'volume': 1521545200, 'price': 55}, {'symbol': 'BUMI.JK', 'company_name': 'Bumi Resources Tbk', 'volume': 1208278500, 'price': 144}], '2023-09-06': [{'symbol': 'GOTO.JK', 'company_name': 'PT GoTo Gojek Tokopedia Tbk', 'volume': 1162712100, 'price': 91}, {'symbol': 'BUMI.JK', 'company_name': 'Bumi Resources Tbk', 'volume': 1089230500, 'price': 146}, {'symbol': 'GIAA.JK', 'company_name': 'Garuda Indonesia (Persero) Tbk', 'volume': 1073308500, 'price': 93}], '2023-09-07': [{'symbol': 'GOTO.JK', 'company_name': 'PT GoTo Gojek Tokopedia Tbk', 'volume': 5148035100, 'price': 94}, {'symbol': 'BUKA.JK', 'company_name': 'PT Bukalapak.com Tbk', 'volume': 849471600, 'price': 244}, {'symbol': 'BUMI.JK', 'company_name': 'Bumi Resources Tbk', 'volume': 846732300, 'price': 143}]}\u001b[0m\u001b[32;1m\u001b[1;3mThe top 3 companies by transaction volume over the last 7 days are PT GoTo Gojek Tokopedia Tbk, Bumi Resources Tbk, and PT Medco Energi Internasional Tbk.\u001b[0m\n",
      "\n",
      "\u001b[1m> Finished chain.\u001b[0m\n",
      "Answer: \n",
      " The top 3 companies by transaction volume over the last 7 days are PT GoTo Gojek Tokopedia Tbk, Bumi Resources Tbk, and PT Medco Energi Internasional Tbk. \n",
      "\n",
      "======\n",
      "\n",
      "\n"
     ]
    }
   ],
   "source": [
    "for query in queries:\n",
    "    print(\"Question:\", query)\n",
    "    result = agent_executor.invoke({\"input\": query})\n",
    "    print(\"Answer:\", \"\\n\", result[\"output\"], \"\\n\\n======\\n\\n\")"
   ]
  },
  {
   "cell_type": "code",
   "execution_count": null,
   "metadata": {},
   "outputs": [],
   "source": []
  }
 ],
 "metadata": {
  "kernelspec": {
   "display_name": "payroll",
   "language": "python",
   "name": "python3"
  },
  "language_info": {
   "codemirror_mode": {
    "name": "ipython",
    "version": 3
   },
   "file_extension": ".py",
   "mimetype": "text/x-python",
   "name": "python",
   "nbconvert_exporter": "python",
   "pygments_lexer": "ipython3",
   "version": "3.11.3"
  }
 },
 "nbformat": 4,
 "nbformat_minor": 2
}
